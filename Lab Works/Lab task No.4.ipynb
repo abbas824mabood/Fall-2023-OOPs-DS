{
 "cells": [
  {
   "cell_type": "markdown",
   "id": "9527a150",
   "metadata": {},
   "source": [
    "<center><span style=\"\n",
    "    font-size: 30px;\n",
    "    font-family: castellar;\n",
    "    color: BLUE;\n",
    "    font-weight: bold;\n",
    "    letter-spacing: 1px;\n",
    "    text-shadow: 3px 1px 0px rgba(0, ,0, 1, 1)\n",
    "\">\n",
    "   LAB TASK NO.4\n",
    "</span></center>"
   ]
  },
  {
   "cell_type": "markdown",
   "id": "f0fdf3ba",
   "metadata": {},
   "source": [
    "# CLASS"
   ]
  },
  {
   "cell_type": "markdown",
   "id": "ec829129",
   "metadata": {},
   "source": [
    "**1. Motivation\n",
    "Interest is to make a list that can store employee data.**\n",
    "[name, age, position, the year they started working]\n",
    "For example\n",
    "* kirk = [\"James Kirk\", 34, \"Captain\", 2265]\n",
    "* spock = [\"Spock\", 35, \"Science Officer\", 2254]\n",
    "* mccoy = [\"Leonard McCoy\", \"Chief Medical Officer\", 2266]\n"
   ]
  },
  {
   "cell_type": "code",
   "execution_count": 9,
   "id": "4febfb95",
   "metadata": {},
   "outputs": [],
   "source": [
    "kirk = [\"James Kirk\", 24, \"Captain\", 2368]\n",
    "spock = [\"Spock\", 45, \"Science Officer\", 3426]\n",
    "mccoy = [\"Leonard McCoy\", \"Chief Medical Officer\", 5422]"
   ]
  },
  {
   "cell_type": "markdown",
   "id": "c679ee97",
   "metadata": {},
   "source": [
    "* Print(kirk[0])"
   ]
  },
  {
   "cell_type": "code",
   "execution_count": 10,
   "id": "c7c5ed6b",
   "metadata": {},
   "outputs": [
    {
     "name": "stdout",
     "output_type": "stream",
     "text": [
      "James Kirk\n"
     ]
    }
   ],
   "source": [
    "print(kirk[0])"
   ]
  },
  {
   "cell_type": "markdown",
   "id": "e9c74540",
   "metadata": {},
   "source": [
    "print(moocy[1])"
   ]
  },
  {
   "cell_type": "code",
   "execution_count": 11,
   "id": "2b7915c8",
   "metadata": {},
   "outputs": [
    {
     "name": "stdout",
     "output_type": "stream",
     "text": [
      "Chief Medical Officer\n"
     ]
    }
   ],
   "source": [
    "print(mccoy[1])"
   ]
  },
  {
   "cell_type": "markdown",
   "id": "638876a2",
   "metadata": {},
   "source": [
    "## 2. Dog class"
   ]
  },
  {
   "cell_type": "code",
   "execution_count": 12,
   "id": "fa997482",
   "metadata": {},
   "outputs": [],
   "source": [
    "class Dog:\n",
    "    pass  \n"
   ]
  },
  {
   "cell_type": "code",
   "execution_count": 13,
   "id": "3f71fd02-e3bf-4d11-9699-39c24bc31b86",
   "metadata": {},
   "outputs": [],
   "source": [
    "dog1 = Dog()\n",
    "\n",
    "Inst = Dog()\n"
   ]
  },
  {
   "cell_type": "code",
   "execution_count": 14,
   "id": "cf5abdfd-9785-44b2-8125-1c675dc85dea",
   "metadata": {},
   "outputs": [],
   "source": [
    "\n",
    "a = Dog()\n",
    "b = Dog()\n"
   ]
  },
  {
   "cell_type": "code",
   "execution_count": 15,
   "id": "c8fd399a-6e39-4024-82e3-7ec1b62e14ac",
   "metadata": {},
   "outputs": [
    {
     "name": "stdout",
     "output_type": "stream",
     "text": [
      "Comparing a and b using ==: False\n"
     ]
    }
   ],
   "source": [
    "print(f\"Comparing a and b using ==: {a == b}\")  "
   ]
  },
  {
   "cell_type": "code",
   "execution_count": 16,
   "id": "8352bb38-5738-439a-bc3b-6567b0ec3c1a",
   "metadata": {},
   "outputs": [
    {
     "name": "stdout",
     "output_type": "stream",
     "text": [
      "Object a: <__main__.Dog object at 0x0000022C6B172FD0>\n",
      "Object b: <__main__.Dog object at 0x0000022C6B172FA0>\n"
     ]
    }
   ],
   "source": [
    "print(f\"Object a: {a}\")\n",
    "print(f\"Object b: {b}\")\n"
   ]
  },
  {
   "cell_type": "markdown",
   "id": "728db0ae-e54d-4f24-9923-78145432d9e0",
   "metadata": {},
   "source": [
    "## MyFirstClass"
   ]
  },
  {
   "cell_type": "code",
   "execution_count": 17,
   "id": "9ac75e75-b88a-491f-8571-3d96c2fc45f5",
   "metadata": {},
   "outputs": [
    {
     "name": "stdout",
     "output_type": "stream",
     "text": [
      "FC1 and FC2 are the same object: False\n",
      "FC1: <__main__.MyFirstClass object at 0x0000022C6C3D8D90>\n",
      "FC2: <__main__.MyFirstClass object at 0x0000022C6C3C70D0>\n"
     ]
    }
   ],
   "source": [
    "class MyFirstClass:\n",
    "    pass \n",
    "FC1 = MyFirstClass()\n",
    "FC2 = MyFirstClass()\n",
    "\n",
    "print(f\"FC1 and FC2 are the same object: {FC1 is FC2}\")  \n",
    "\n",
    "\n",
    "print(f\"FC1: {FC1}\")\n",
    "print(f\"FC2: {FC2}\")\n"
   ]
  },
  {
   "cell_type": "markdown",
   "id": "332fb76b-bcf7-4cd6-878f-914ec4293f46",
   "metadata": {},
   "source": [
    "## Point class"
   ]
  },
  {
   "cell_type": "code",
   "execution_count": 18,
   "id": "1cacc261-f93c-4cf1-bada-1c7a58ef7f2c",
   "metadata": {},
   "outputs": [],
   "source": [
    "\n",
    "class Point:\n",
    "    pass  \n"
   ]
  },
  {
   "cell_type": "code",
   "execution_count": 19,
   "id": "32a7bedf-3c95-4f98-a58c-25ce725354b6",
   "metadata": {},
   "outputs": [],
   "source": [
    "p1 = Point()\n",
    "p2 = Point()\n",
    "\n",
    "\n",
    "p1.x = 3\n",
    "p1.y = 4\n",
    "\n",
    "p2.x = 6\n",
    "p2.y = 8"
   ]
  },
  {
   "cell_type": "code",
   "execution_count": 20,
   "id": "5eb0fc8c-9d02-4fa7-b695-2b62909dfdd2",
   "metadata": {},
   "outputs": [
    {
     "name": "stdout",
     "output_type": "stream",
     "text": [
      "p1: <__main__.Point object at 0x0000022C6B172C40>, p1.x = 3, p1.y = 4\n",
      "p2: <__main__.Point object at 0x0000022C6AFDBD30>, p2.x = 6, p2.y = 8\n"
     ]
    }
   ],
   "source": [
    "\n",
    "print(f\"p1: {p1}, p1.x = {p1.x}, p1.y = {p1.y}\")\n",
    "print(f\"p2: {p2}, p2.x = {p2.x}, p2.y = {p2.y}\")\n"
   ]
  },
  {
   "cell_type": "code",
   "execution_count": 21,
   "id": "1b39a1ca-afa8-454b-828c-bd6bda56c4a4",
   "metadata": {},
   "outputs": [],
   "source": [
    "obj1 = Point()\n",
    "obj2 = Point()\n"
   ]
  },
  {
   "cell_type": "code",
   "execution_count": 22,
   "id": "02622f29-8753-4806-ad39-cc53e312030b",
   "metadata": {},
   "outputs": [
    {
     "name": "stdout",
     "output_type": "stream",
     "text": [
      "obj1: <__main__.Point object at 0x0000022C6B182D90>, obj1.latitude = 50.0, obj1.longitude = 75.0\n",
      "obj2: <__main__.Point object at 0x0000022C6B16AF40>, obj2.latitude = 55.0, obj2.longitude = 80.0\n",
      "obj1.greeting(): Hello!\n"
     ]
    }
   ],
   "source": [
    "obj1.latitude = 50.0\n",
    "obj1.longitude = 75.0\n",
    "\n",
    "obj2.latitude = 55.0\n",
    "obj2.longitude = 80.0\n",
    "\n",
    "print(f\"obj1: {obj1}, obj1.latitude = {obj1.latitude}, obj1.longitude = {obj1.longitude}\")\n",
    "print(f\"obj2: {obj2}, obj2.latitude = {obj2.latitude}, obj2.longitude = {obj2.longitude}\")\n",
    "\n",
    "\n",
    "def greet():\n",
    "    return \"Hello!\"\n",
    "\n",
    "obj1.greeting = greet \n",
    "\n",
    "\n",
    "print(f\"obj1.greeting(): {obj1.greeting()}\")  \n"
   ]
  },
  {
   "cell_type": "markdown",
   "id": "30aa7ca5-dbab-4e2d-b18b-b0432dacc1d7",
   "metadata": {},
   "source": [
    "# Dog"
   ]
  },
  {
   "cell_type": "code",
   "execution_count": 23,
   "id": "3d66084f-7062-47e9-9391-0bd4f4efb144",
   "metadata": {},
   "outputs": [],
   "source": [
    "\n",
    "class Dog:\n",
    "    def __init__(self, name, age):\n",
    "        self.name = name\n",
    "        self.age = age"
   ]
  },
  {
   "cell_type": "code",
   "execution_count": 24,
   "id": "fbbe0f4c-86f7-49d1-88c1-91a89d71c58a",
   "metadata": {},
   "outputs": [
    {
     "name": "stdout",
     "output_type": "stream",
     "text": [
      "<__main__.Dog object at 0x0000022C6C3D8310>\n"
     ]
    }
   ],
   "source": [
    "\n",
    "miles = Dog(\"Miles\", 4)\n",
    "\n",
    "print(miles)\n"
   ]
  },
  {
   "cell_type": "markdown",
   "id": "1fcabc94-623a-4d44-8bb2-2b77319e74b9",
   "metadata": {},
   "source": [
    "## DOG"
   ]
  },
  {
   "cell_type": "code",
   "execution_count": 25,
   "id": "a140682e",
   "metadata": {},
   "outputs": [],
   "source": [
    "class Dog:\n",
    "    species = \"Canis familiaris\" \n",
    "\n",
    "    def __init__(self, name, age):\n",
    "\n",
    "        self.name = name  \n",
    "        self.age = age  \n",
    "\n"
   ]
  },
  {
   "cell_type": "code",
   "execution_count": 26,
   "id": "d34840af",
   "metadata": {},
   "outputs": [],
   "source": [
    "miles = Dog(\"Miles\", 4)\n",
    "buddy = Dog(\"Buddy\", 9)"
   ]
  },
  {
   "cell_type": "code",
   "execution_count": 27,
   "id": "dd7960f9-c20d-4639-a332-13ec230ffe9d",
   "metadata": {},
   "outputs": [
    {
     "name": "stdout",
     "output_type": "stream",
     "text": [
      "Miles' name: Miles, age: 4\n",
      "Buddy's name: Buddy, age: 9\n"
     ]
    }
   ],
   "source": [
    "print(f\"Miles' name: {miles.name}, age: {miles.age}\")\n",
    "print(f\"Buddy's name: {buddy.name}, age: {buddy.age}\")"
   ]
  },
  {
   "cell_type": "code",
   "execution_count": 28,
   "id": "8577c73b",
   "metadata": {},
   "outputs": [
    {
     "name": "stdout",
     "output_type": "stream",
     "text": [
      "Buddy's new age: 10\n",
      "Miles' species: Felis silvestris\n",
      "Buddy's species (class attribute): Canis familiaris\n"
     ]
    }
   ],
   "source": [
    "buddy.age = 10  \n",
    "print(f\"Buddy's new age: {buddy.age}\")\n",
    "\n",
    "miles.species = \"Felis silvestris\"\n",
    "print(f\"Miles' species: {miles.species}\")\n",
    "\n",
    "print(f\"Buddy's species (class attribute): {buddy.species}\")\n"
   ]
  },
  {
   "cell_type": "markdown",
   "id": "190df577-967f-47d2-8132-9923d9d73a61",
   "metadata": {},
   "source": [
    "## POINT 2D"
   ]
  },
  {
   "cell_type": "code",
   "execution_count": 51,
   "id": "f4d52518-8816-4918-b038-3c8eed017af5",
   "metadata": {},
   "outputs": [],
   "source": [
    "import math\n",
    "\n",
    "class Point:\n",
    "\n",
    "    def __init__(self, x: float, y: float) -> None:\n",
    "\n",
    "        self.x = x\n",
    "        self.y = y\n",
    "\n",
    "    def distance(self, p2: 'Point') -> float:\n",
    "        return math.sqrt((self.x - p2.x)**2 + (self.y - p2.y)**2)\n",
    "\n",
    "    def locate(self) -> str:\n",
    "        if self.x > 0 and self.y > 0:\n",
    "            return f\"The point ({self.x}, {self.y}) is in Quadrant I.\"\n",
    "        elif self.x < 0 and self.y > 0:\n",
    "            return f\"The point ({self.x}, {self.y}) is in Quadrant II.\"\n",
    "        elif self.x < 0 and self.y < 0:\n",
    "            return f\"The point ({self.x}, {self.y}) is in Quadrant III.\"\n",
    "        elif self.x > 0 and self.y < 0:\n",
    "            return f\"The point ({self.x}, {self.y}) is in Quadrant IV.\"\n",
    "        elif self.x == 0 and self.y != 0:\n",
    "            return f\"The point ({self.x}, {self.y}) is on the Y-axis.\"\n",
    "        elif self.y == 0 and self.x != 0:\n",
    "            return f\"The point ({self.x}, {self.y}) is on the X-axis.\"\n",
    "        else:\n",
    "            return f\"The point ({self.x}, {self.y}) is at the Origin.\"\n",
    "\n",
    "    def display(self) -> tuple:\n",
    "        return (self.x, self.y)\n",
    "\n",
    "\n"
   ]
  },
  {
   "cell_type": "code",
   "execution_count": 52,
   "id": "6106cb0e-73d8-4159-99c2-2e4d442bb941",
   "metadata": {},
   "outputs": [],
   "source": [
    "p1 = Point(3, 4)\n",
    "p2 = Point(-5, 7)"
   ]
  },
  {
   "cell_type": "code",
   "execution_count": 53,
   "id": "19dbef71-9904-4e0a-b48c-6ae89de19f8b",
   "metadata": {},
   "outputs": [
    {
     "name": "stdout",
     "output_type": "stream",
     "text": [
      "Point 1: (3, 4)\n",
      "Point 2: (-5, 7)\n"
     ]
    }
   ],
   "source": [
    "print(\"Point 1:\", p1.display())\n",
    "print(\"Point 2:\", p2.display())\n"
   ]
  },
  {
   "cell_type": "code",
   "execution_count": 54,
   "id": "727f0295-9a6b-49ec-a785-a2b60729afdf",
   "metadata": {},
   "outputs": [
    {
     "name": "stdout",
     "output_type": "stream",
     "text": [
      "Location of Point 1: The point (3, 4) is in Quadrant I.\n",
      "Location of Point 2: The point (-5, 7) is in Quadrant II.\n"
     ]
    }
   ],
   "source": [
    "print(\"Location of Point 1:\", p1.locate())\n",
    "print(\"Location of Point 2:\", p2.locate())\n"
   ]
  },
  {
   "cell_type": "code",
   "execution_count": 55,
   "id": "00754186-ffc8-4456-bcbb-8bd7bb40d92b",
   "metadata": {},
   "outputs": [
    {
     "name": "stdout",
     "output_type": "stream",
     "text": [
      "Point 1 coordinates: 3 4\n",
      "Point 2 coordinates: -5 7\n"
     ]
    }
   ],
   "source": [
    "print(\"Point 1 coordinates:\", p1.x, p1.y)\n",
    "print(\"Point 2 coordinates:\", p2.x, p2.y)"
   ]
  },
  {
   "cell_type": "code",
   "execution_count": 56,
   "id": "72a37195-4a26-459b-9ea1-7f7383ceb0ff",
   "metadata": {},
   "outputs": [
    {
     "name": "stdout",
     "output_type": "stream",
     "text": [
      "Using display method for Point 1: (3, 4)\n",
      "Using display method for Point 2: (-5, 7)\n",
      "The distance between Point 1 and Point 2 is: 8.54\n"
     ]
    }
   ],
   "source": [
    "print(\"Using display method for Point 1:\", p1.display())\n",
    "print(\"Using display method for Point 2:\", p2.display())\n",
    "\n",
    "distance = p1.distance(p2)\n",
    "print(f\"The distance between Point 1 and Point 2 is: {distance:.2f}\")"
   ]
  },
  {
   "cell_type": "code",
   "execution_count": 57,
   "id": "f4492c45-e7c6-49ee-b851-f229fc784dc0",
   "metadata": {},
   "outputs": [
    {
     "name": "stdout",
     "output_type": "stream",
     "text": [
      "The distance between Point 1 and Point 2 is: 8.54\n"
     ]
    }
   ],
   "source": [
    "distance = p1.distance(p2)\n",
    "print(f\"The distance between Point 1 and Point 2 is: {distance:.2f}\")"
   ]
  },
  {
   "cell_type": "code",
   "execution_count": 58,
   "id": "90dc188e-d090-4556-84fd-f82b3232a36c",
   "metadata": {},
   "outputs": [
    {
     "name": "stdout",
     "output_type": "stream",
     "text": [
      "\n",
      "Class __dict__: {'__module__': '__main__', '__doc__': '\\n    Represents a point in a 2D coordinate system.\\n\\n    Attributes:\\n    x (float): The x-coordinate of the point.\\n    y (float): The y-coordinate of the point.\\n    ', '__init__': <function Point.__init__ at 0x0000022C6CC8DB80>, 'distance': <function Point.distance at 0x0000022C6CCF0700>, 'locate': <function Point.locate at 0x0000022C6CCF0670>, 'display': <function Point.display at 0x0000022C6CCF0820>, '__dict__': <attribute '__dict__' of 'Point' objects>, '__weakref__': <attribute '__weakref__' of 'Point' objects>}\n"
     ]
    }
   ],
   "source": [
    "print(\"\\nClass __dict__:\", Point.__dict__)"
   ]
  },
  {
   "cell_type": "code",
   "execution_count": 37,
   "id": "0493fec4-eba7-4414-90e5-dc4500f6fe6a",
   "metadata": {},
   "outputs": [
    {
     "name": "stdout",
     "output_type": "stream",
     "text": [
      "\n",
      "Object __dict__ for p1: {'x': 3, 'y': 4}\n",
      "Object __dict__ for p2: {'x': 6, 'y': 8}\n"
     ]
    }
   ],
   "source": [
    "print(\"\\nObject __dict__ for p1:\", p1.__dict__)\n",
    "print(\"Object __dict__ for p2:\", p2.__dict__)"
   ]
  },
  {
   "cell_type": "code",
   "execution_count": 38,
   "id": "a7fe2595-bd2d-4073-9e4e-275cd5dbb89c",
   "metadata": {},
   "outputs": [
    {
     "name": "stdout",
     "output_type": "stream",
     "text": [
      "Help on class Point in module __main__:\n",
      "\n",
      "class Point(builtins.object)\n",
      " |  Data descriptors defined here:\n",
      " |  \n",
      " |  __dict__\n",
      " |      dictionary for instance variables (if defined)\n",
      " |  \n",
      " |  __weakref__\n",
      " |      list of weak references to the object (if defined)\n",
      "\n"
     ]
    }
   ],
   "source": [
    "help(Point)"
   ]
  },
  {
   "cell_type": "code",
   "execution_count": 59,
   "id": "f6c6a3f9-66d7-4175-9dd6-f2f52819d9bf",
   "metadata": {},
   "outputs": [
    {
     "name": "stdout",
     "output_type": "stream",
     "text": [
      "\n",
      "Class doc-string: \n",
      "    Represents a point in a 2D coordinate system.\n",
      "\n",
      "    Attributes:\n",
      "    x (float): The x-coordinate of the point.\n",
      "    y (float): The y-coordinate of the point.\n",
      "    \n",
      "Constructor doc-string: \n",
      "        Initializes the point with x and y coordinates.\n",
      "\n",
      "        Parameters:\n",
      "        x (float): The x-coordinate of the point.\n",
      "        y (float): The y-coordinate of the point.\n",
      "        \n",
      "Distance method doc-string: \n",
      "        Calculates the distance between the current point and another point.\n",
      "\n",
      "        Parameters:\n",
      "        p2 (Point): The second point to which the distance is calculated.\n",
      "\n",
      "        Returns:\n",
      "        float: The distance between the two points.\n",
      "        \n",
      "Locate method doc-string: \n",
      "        Returns a string representing the location of the point and the quadrant in which it lies.\n",
      "\n",
      "        Returns:\n",
      "        str: A message indicating the location of the point, including the quadrant or axis information.\n",
      "        \n",
      "Display method doc-string: \n",
      "        Displays the coordinates of the point as a tuple.\n",
      "\n",
      "        Returns:\n",
      "        tuple: A tuple representing the point's coordinates.\n",
      "        \n"
     ]
    }
   ],
   "source": [
    "print(\"\\nClass doc-string:\", Point.__doc__)\n",
    "print(\"Constructor doc-string:\", Point.__init__.__doc__)\n",
    "print(\"Distance method doc-string:\", Point.distance.__doc__)\n",
    "print(\"Locate method doc-string:\", Point.locate.__doc__)\n",
    "print(\"Display method doc-string:\", Point.display.__doc__)"
   ]
  },
  {
   "cell_type": "code",
   "execution_count": 60,
   "id": "dd028b63-8814-49fd-a6c0-fa7192982641",
   "metadata": {},
   "outputs": [
    {
     "name": "stdout",
     "output_type": "stream",
     "text": [
      "\n",
      "Constructor annotations: {'x': <class 'float'>, 'y': <class 'float'>, 'return': None}\n",
      "Distance method annotations: {'p2': 'Point', 'return': <class 'float'>}\n",
      "Locate method annotations: {'return': <class 'str'>}\n",
      "Display method annotations: {'return': <class 'tuple'>}\n"
     ]
    }
   ],
   "source": [
    "print(\"\\nConstructor annotations:\", Point.__init__.__annotations__)\n",
    "print(\"Distance method annotations:\", Point.distance.__annotations__)\n",
    "print(\"Locate method annotations:\", Point.locate.__annotations__)\n",
    "print(\"Display method annotations:\", Point.display.__annotations__)"
   ]
  },
  {
   "cell_type": "code",
   "execution_count": 61,
   "id": "5a5eb215-be70-44b7-b407-2be219fcdeb9",
   "metadata": {},
   "outputs": [],
   "source": [
    "import math\n",
    "\n",
    "class Point:\n",
    "\n",
    "    def __init__(self, x: float = 0, y: float = 0) -> None:\n",
    "\n",
    "        self.x = x\n",
    "        self.y = y\n",
    "\n",
    "    def distance(self, p2: 'Point') -> float:\n",
    "\n",
    "        return math.sqrt((self.x - p2.x)**2 + (self.y - p2.y)**2)\n",
    "\n",
    "    def locate(self) -> str:\n",
    "\n",
    "        if self.x > 0 and self.y > 0:\n",
    "            return f\"The point ({self.x}, {self.y}) is in Quadrant I.\"\n",
    "        elif self.x < 0 and self.y > 0:\n",
    "            return f\"The point ({self.x}, {self.y}) is in Quadrant II.\"\n",
    "        elif self.x < 0 and self.y < 0:\n",
    "            return f\"The point ({self.x}, {self.y}) is in Quadrant III.\"\n",
    "        elif self.x > 0 and self.y < 0:\n",
    "            return f\"The point ({self.x}, {self.y}) is in Quadrant IV.\"\n",
    "        elif self.x == 0 and self.y != 0:\n",
    "            return f\"The point ({self.x}, {self.y}) is on the Y-axis.\"\n",
    "        elif self.y == 0 and self.x != 0:\n",
    "            return f\"The point ({self.x}, {self.y}) is on the X-axis.\"\n",
    "        else:\n",
    "            return f\"The point ({self.x}, {self.y}) is at the Origin.\"\n",
    "\n",
    "    def display(self) -> tuple:\n",
    "\n",
    "        return (self.x, self.y)\n",
    "\n",
    "    def show(self) -> None:\n",
    "\n",
    "        print(f\"Point Coordinates: ({self.x}, {self.y})\")\n",
    "\n",
    "  # Using the show method to display the point\n"
   ]
  },
  {
   "cell_type": "code",
   "execution_count": 62,
   "id": "64d480dc-66af-4dc6-999e-62e19bc871c4",
   "metadata": {},
   "outputs": [],
   "source": [
    "point_1 = Point(3, 4)"
   ]
  },
  {
   "cell_type": "code",
   "execution_count": 63,
   "id": "6f25d9bb-7333-4819-94f9-7710827f5384",
   "metadata": {},
   "outputs": [
    {
     "name": "stdout",
     "output_type": "stream",
     "text": [
      "Point 1 coordinates using dot operator: (3, 4)\n",
      "Point Coordinates: (3, 4)\n"
     ]
    }
   ],
   "source": [
    "print(f\"Point 1 coordinates using dot operator: ({point_1.x}, {point_1.y})\")\n",
    "point_1.show() "
   ]
  },
  {
   "cell_type": "code",
   "execution_count": 64,
   "id": "ac66bca6-ce2c-46f2-b3cc-f5838e3cba60",
   "metadata": {},
   "outputs": [
    {
     "name": "stdout",
     "output_type": "stream",
     "text": [
      "Point Coordinates: (5, 0)\n"
     ]
    }
   ],
   "source": [
    "point_2 = Point(5)  \n",
    "point_2.show() "
   ]
  },
  {
   "cell_type": "code",
   "execution_count": 65,
   "id": "b76bdc23-4e61-4d77-b6e7-f5845c71dcf3",
   "metadata": {},
   "outputs": [
    {
     "name": "stdout",
     "output_type": "stream",
     "text": [
      "Point Coordinates: (0, 0)\n"
     ]
    }
   ],
   "source": [
    "point_3 = Point() \n",
    "point_3.show()"
   ]
  },
  {
   "cell_type": "code",
   "execution_count": null,
   "id": "8a08f38c-c7b9-460b-83fc-b89fbdfa0bb5",
   "metadata": {},
   "outputs": [],
   "source": []
  },
  {
   "cell_type": "code",
   "execution_count": null,
   "id": "ebd02b6a-d18b-4eb5-b8b8-e0917d20951e",
   "metadata": {},
   "outputs": [],
   "source": []
  },
  {
   "cell_type": "code",
   "execution_count": null,
   "id": "2359482e-d36d-488d-af57-cd91635216fa",
   "metadata": {},
   "outputs": [],
   "source": []
  },
  {
   "cell_type": "code",
   "execution_count": null,
   "id": "e9761dd7-4728-4b5f-b0b1-950ba308d9ca",
   "metadata": {},
   "outputs": [],
   "source": []
  },
  {
   "cell_type": "code",
   "execution_count": null,
   "id": "0856e16f-0d5b-4111-9467-bd4b30178c47",
   "metadata": {},
   "outputs": [],
   "source": []
  },
  {
   "cell_type": "code",
   "execution_count": null,
   "id": "1f9f5af9-a271-4c87-a7ef-4826ba7a0c3e",
   "metadata": {},
   "outputs": [],
   "source": []
  },
  {
   "cell_type": "code",
   "execution_count": null,
   "id": "a2dc4a8f-e65e-4686-95ba-caa78952e180",
   "metadata": {},
   "outputs": [],
   "source": []
  },
  {
   "cell_type": "code",
   "execution_count": null,
   "id": "0ed7b8d2-eca3-4b76-9722-80467f1e8d7f",
   "metadata": {},
   "outputs": [],
   "source": []
  },
  {
   "cell_type": "code",
   "execution_count": null,
   "id": "b7d3da71-13e0-4544-8cae-11b14896cef5",
   "metadata": {},
   "outputs": [],
   "source": []
  },
  {
   "cell_type": "code",
   "execution_count": null,
   "id": "0ac32e5b-2f00-404a-8a9d-2917870b8475",
   "metadata": {},
   "outputs": [],
   "source": []
  },
  {
   "cell_type": "code",
   "execution_count": null,
   "id": "a6b9b4b0-6af3-4c53-a80a-1fa0bdf5bf09",
   "metadata": {},
   "outputs": [],
   "source": []
  },
  {
   "cell_type": "code",
   "execution_count": null,
   "id": "ab0d1b9a-7d91-4fb0-9831-99421f305a54",
   "metadata": {},
   "outputs": [],
   "source": []
  },
  {
   "cell_type": "code",
   "execution_count": null,
   "id": "10f28483-8fbc-4a26-8282-7bd59730a2db",
   "metadata": {},
   "outputs": [],
   "source": []
  }
 ],
 "metadata": {
  "kernelspec": {
   "display_name": "Python 3 (ipykernel)",
   "language": "python",
   "name": "python3"
  },
  "language_info": {
   "codemirror_mode": {
    "name": "ipython",
    "version": 3
   },
   "file_extension": ".py",
   "mimetype": "text/x-python",
   "name": "python",
   "nbconvert_exporter": "python",
   "pygments_lexer": "ipython3",
   "version": "3.9.19"
  }
 },
 "nbformat": 4,
 "nbformat_minor": 5
}
