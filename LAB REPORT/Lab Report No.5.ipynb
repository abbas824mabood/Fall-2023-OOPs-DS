{
 "cells": [
  {
   "cell_type": "markdown",
   "id": "aa08a429-7a2d-4b13-9150-c229a501fe5a",
   "metadata": {},
   "source": [
    "# Lab Report Details\n",
    "\n",
    "| **Field**        | **Details**         |\n",
    "|-------------------|---------------------|\n",
    "| **Name**         | MUHAMMAD ABBAS MABOOD         |\n",
    "| **Req No**       | 23jzele0545 |\n",
    "| **Lab Report No**| 05                 |"
   ]
  },
  {
   "cell_type": "markdown",
   "id": "ac27ea23",
   "metadata": {},
   "source": [
    "<center><span style=\"\n",
    "    font-size: 30px;\n",
    "    font-family: castellar;\n",
    "    color: BLUE;\n",
    "    font-weight: bold;\n",
    "    letter-spacing: 1px;\n",
    "    text-shadow: 3px 1px 0px rgba(0, ,0, 1, 1)\n",
    "\">\n",
    "    LAB REPORT OF OOP AND DATA STRUCTARE\n",
    "</span></center>"
   ]
  },
  {
   "cell_type": "markdown",
   "id": "c83657c3",
   "metadata": {},
   "source": [
    "<center><span style=\"\n",
    "    font-size: 25px;\n",
    "    font-family: Arial Black;\n",
    "    color: light green;\n",
    "    font-weight: bold;\n",
    "    letter-spacing: 1px;\n",
    "    text-shadow: 3px 1px 0px rgba(0, ,0, 1, 1)\n",
    "\">\n",
    "    Lab 5 : Classes 2 –repr-- and –str--\"\n",
    "</span></center>"
   ]
  },
  {
   "cell_type": "markdown",
   "id": "bc2b0691",
   "metadata": {},
   "source": [
    "<center><span style=\"\n",
    "    font-size: 25px;\n",
    "    font-family: castellar;\n",
    "    color: red;\n",
    "    font-weight: bold;\n",
    "    letter-spacing: 1px;\n",
    "    text-shadow: 3px 1px 0px rgba(0, ,0, 1, 1)\n",
    "\">\n",
    " Lab Title: EE-271 “OOP & Data Structures Lab”  \n",
    "</span></center>"
   ]
  },
  {
   "cell_type": "markdown",
   "id": "0ff83081",
   "metadata": {},
   "source": [
    "## Lab report task:"
   ]
  },
  {
   "cell_type": "markdown",
   "id": "49b3aeb0",
   "metadata": {},
   "source": [
    "### 1. Define a class circle. Your class must have the appropriate __init__ method."
   ]
  },
  {
   "cell_type": "markdown",
   "id": "cbfe82aa",
   "metadata": {},
   "source": [
    "#### i. Add appropriate property methods. (@property and @property.setter)\n",
    "#### ii. In addition, add an instance method for the volume of a cylinder with the given \n",
    "#### radius.\n",
    "#### iii. Add property method for area, circumference, and diameter. \n",
    "#### iv. Add __repr__ and __str__ to the class. \n",
    "#### v. Add proper annotation and doc string to every class and instance method.\n"
   ]
  },
  {
   "cell_type": "code",
   "execution_count": 3,
   "id": "5d95a2c0",
   "metadata": {},
   "outputs": [],
   "source": [
    "import math\n",
    "\n",
    "class Circle:\n",
    "    \"\"\"A class to represent a circle.\"\"\"\n",
    "    \n",
    "    def __init__(self, radius: float = 1):\n",
    "        \"\"\"Initialize the circle with a radius.\"\"\"\n",
    "        self._radius = radius\n",
    "    def area(self) -> float:\n",
    "        \"\"\"Calculate the area of the circle.\"\"\"\n",
    "        return math.pi * (self._radius ** 2)\n",
    "    def circumference(self) -> float:\n",
    "        \"\"\"Calculate the circumference of the circle.\"\"\"\n",
    "        return 2 * math.pi * self._radius\n",
    "    def diameter(self) -> float:\n",
    "        \"\"\"Calculate the diameter of the circle.\"\"\"\n",
    "        return 2 * self._radius\n",
    "\n",
    "    def volume_of_cylinder(self, height: float) -> float:\n",
    "        \"\"\"Calculate the volume of a cylinder.\"\"\"\n",
    "        if height < 0:\n",
    "            raise ValueError(\"Height cannot be negative.\")\n",
    "        return self.area * height\n",
    "\n",
    "    def __repr__(self) -> str:\n",
    "        \"\"\"Return a string representation of the circle.\"\"\"\n",
    "        return f\"Circle(radius={self._radius})\"\n",
    "\n",
    "    def __str__(self) -> str:\n",
    "        \"\"\"Return a user-friendly string representation of the circle.\"\"\"\n",
    "        return f\"Circle with radius: {self._radius}\""
   ]
  },
  {
   "cell_type": "markdown",
   "id": "c96596b8",
   "metadata": {},
   "source": [
    "**a. Define inst_1 and pass two number**"
   ]
  },
  {
   "cell_type": "code",
   "execution_count": 4,
   "id": "b02968a4",
   "metadata": {},
   "outputs": [],
   "source": [
    "inst_1 = Circle(4)"
   ]
  },
  {
   "cell_type": "markdown",
   "id": "c3f97d79",
   "metadata": {},
   "source": [
    "**b. Make another instance inst2.**"
   ]
  },
  {
   "cell_type": "code",
   "execution_count": 5,
   "id": "02fab1cc",
   "metadata": {},
   "outputs": [],
   "source": [
    "inst_2 = Circle(8)"
   ]
  },
  {
   "cell_type": "markdown",
   "id": "58845162",
   "metadata": {},
   "source": [
    "**c. Print inst_1 and inst_2, for this use the print command and pass the inst_1 and inst_2.**"
   ]
  },
  {
   "cell_type": "code",
   "execution_count": 6,
   "id": "482a706b",
   "metadata": {},
   "outputs": [
    {
     "name": "stdout",
     "output_type": "stream",
     "text": [
      "Circle with radius: 4\n",
      "Circle with radius: 8\n"
     ]
    }
   ],
   "source": [
    "print(inst_1)\n",
    "print(inst_2)"
   ]
  },
  {
   "cell_type": "markdown",
   "id": "a8fce814",
   "metadata": {},
   "source": [
    "**d. Call the dict by the class name.**"
   ]
  },
  {
   "cell_type": "code",
   "execution_count": 8,
   "id": "36b10bf9",
   "metadata": {},
   "outputs": [
    {
     "data": {
      "text/plain": [
       "mappingproxy({'__module__': '__main__',\n",
       "              '__doc__': 'A class to represent a circle.',\n",
       "              '__init__': <function __main__.Circle.__init__(self, radius: float = 1)>,\n",
       "              'area': <function __main__.Circle.area(self) -> float>,\n",
       "              'circumference': <function __main__.Circle.circumference(self) -> float>,\n",
       "              'diameter': <function __main__.Circle.diameter(self) -> float>,\n",
       "              'volume_of_cylinder': <function __main__.Circle.volume_of_cylinder(self, height: float) -> float>,\n",
       "              '__repr__': <function __main__.Circle.__repr__(self) -> str>,\n",
       "              '__str__': <function __main__.Circle.__str__(self) -> str>,\n",
       "              '__dict__': <attribute '__dict__' of 'Circle' objects>,\n",
       "              '__weakref__': <attribute '__weakref__' of 'Circle' objects>})"
      ]
     },
     "execution_count": 8,
     "metadata": {},
     "output_type": "execute_result"
    }
   ],
   "source": [
    "Circle.__dict__"
   ]
  },
  {
   "cell_type": "markdown",
   "id": "5dd3e596",
   "metadata": {},
   "source": [
    "**e. Also pass the class name to the vars built-in function.**"
   ]
  },
  {
   "cell_type": "code",
   "execution_count": 10,
   "id": "8ee03bc7",
   "metadata": {},
   "outputs": [
    {
     "data": {
      "text/plain": [
       "mappingproxy({'__module__': '__main__', '__doc__': 'A class to represent a circle.', '__init__': <function Circle.__init__ at 0x000001F9BBAA8550>, 'area': <function Circle.area at 0x000001F9BBAA8940>, 'circumference': <function Circle.circumference at 0x000001F9BBAA85E0>, 'diameter': <function Circle.diameter at 0x000001F9BBAA8C10>, 'volume_of_cylinder': <function Circle.volume_of_cylinder at 0x000001F9BBAA8160>, '__repr__': <function Circle.__repr__ at 0x000001F9BBAA8B80>, '__str__': <function Circle.__str__ at 0x000001F9BBAA88B0>, '__dict__': <attribute '__dict__' of 'Circle' objects>, '__weakref__': <attribute '__weakref__' of 'Circle' objects>})"
      ]
     },
     "execution_count": 10,
     "metadata": {},
     "output_type": "execute_result"
    }
   ],
   "source": [
    "vars(Circle)"
   ]
  },
  {
   "cell_type": "code",
   "execution_count": 11,
   "id": "b2312108",
   "metadata": {},
   "outputs": [
    {
     "name": "stdout",
     "output_type": "stream",
     "text": [
      "{'_radius': 4}\n"
     ]
    }
   ],
   "source": [
    "print(inst_1.__dict__)"
   ]
  },
  {
   "cell_type": "code",
   "execution_count": 12,
   "id": "dcf62694",
   "metadata": {},
   "outputs": [
    {
     "name": "stdout",
     "output_type": "stream",
     "text": [
      "{'_radius': 8}\n"
     ]
    }
   ],
   "source": [
    "print(inst_2.__dict__)"
   ]
  },
  {
   "cell_type": "markdown",
   "id": "a428ac99",
   "metadata": {},
   "source": [
    "**g. Pass the class name to help.**"
   ]
  },
  {
   "cell_type": "code",
   "execution_count": 13,
   "id": "e036efa3",
   "metadata": {},
   "outputs": [
    {
     "name": "stdout",
     "output_type": "stream",
     "text": [
      "Help on class Circle in module __main__:\n",
      "\n",
      "class Circle(builtins.object)\n",
      " |  Circle(radius: float = 1)\n",
      " |  \n",
      " |  A class to represent a circle.\n",
      " |  \n",
      " |  Methods defined here:\n",
      " |  \n",
      " |  __init__(self, radius: float = 1)\n",
      " |      Initialize the circle with a radius.\n",
      " |  \n",
      " |  __repr__(self) -> str\n",
      " |      Return a string representation of the circle.\n",
      " |  \n",
      " |  __str__(self) -> str\n",
      " |      Return a user-friendly string representation of the circle.\n",
      " |  \n",
      " |  area(self) -> float\n",
      " |      Calculate the area of the circle.\n",
      " |  \n",
      " |  circumference(self) -> float\n",
      " |      Calculate the circumference of the circle.\n",
      " |  \n",
      " |  diameter(self) -> float\n",
      " |      Calculate the diameter of the circle.\n",
      " |  \n",
      " |  volume_of_cylinder(self, height: float) -> float\n",
      " |      Calculate the volume of a cylinder.\n",
      " |  \n",
      " |  ----------------------------------------------------------------------\n",
      " |  Data descriptors defined here:\n",
      " |  \n",
      " |  __dict__\n",
      " |      dictionary for instance variables (if defined)\n",
      " |  \n",
      " |  __weakref__\n",
      " |      list of weak references to the object (if defined)\n",
      "\n"
     ]
    }
   ],
   "source": [
    "help(Circle)"
   ]
  },
  {
   "cell_type": "code",
   "execution_count": 14,
   "id": "c0a9d0d3",
   "metadata": {},
   "outputs": [
    {
     "name": "stdout",
     "output_type": "stream",
     "text": [
      "A class to represent a circle.\n"
     ]
    }
   ],
   "source": [
    "print(Circle.__doc__)"
   ]
  },
  {
   "cell_type": "code",
   "execution_count": 15,
   "id": "60fb2a80",
   "metadata": {},
   "outputs": [
    {
     "name": "stdout",
     "output_type": "stream",
     "text": [
      "{'radius': <class 'float'>}\n"
     ]
    }
   ],
   "source": [
    "print(Circle.__init__.__annotations__)"
   ]
  },
  {
   "cell_type": "code",
   "execution_count": 16,
   "id": "4388a6d4",
   "metadata": {},
   "outputs": [
    {
     "name": "stdout",
     "output_type": "stream",
     "text": [
      "Initialize the circle with a radius.\n"
     ]
    }
   ],
   "source": [
    "print(Circle.__init__.__doc__)"
   ]
  },
  {
   "cell_type": "code",
   "execution_count": 17,
   "id": "2e85ceaf",
   "metadata": {},
   "outputs": [
    {
     "name": "stdout",
     "output_type": "stream",
     "text": [
      "Calculate the area of the circle.\n"
     ]
    }
   ],
   "source": [
    "print(Circle.area.__doc__)"
   ]
  },
  {
   "cell_type": "code",
   "execution_count": 18,
   "id": "c366fe19",
   "metadata": {},
   "outputs": [
    {
     "name": "stdout",
     "output_type": "stream",
     "text": [
      "Calculate the circumference of the circle.\n"
     ]
    }
   ],
   "source": [
    "print(Circle.circumference.__doc__)"
   ]
  },
  {
   "cell_type": "code",
   "execution_count": 19,
   "id": "61d4a619",
   "metadata": {},
   "outputs": [
    {
     "name": "stdout",
     "output_type": "stream",
     "text": [
      "Calculate the diameter of the circle.\n"
     ]
    }
   ],
   "source": [
    "print(Circle.diameter.__doc__)"
   ]
  },
  {
   "cell_type": "code",
   "execution_count": 20,
   "id": "c17b57d2",
   "metadata": {},
   "outputs": [
    {
     "name": "stdout",
     "output_type": "stream",
     "text": [
      "Calculate the volume of a cylinder.\n"
     ]
    }
   ],
   "source": [
    "print(Circle.volume_of_cylinder.__doc__)"
   ]
  },
  {
   "cell_type": "code",
   "execution_count": 21,
   "id": "6b5f08ea",
   "metadata": {},
   "outputs": [
    {
     "name": "stdout",
     "output_type": "stream",
     "text": [
      "Return a string representation of the circle.\n"
     ]
    }
   ],
   "source": [
    "print(Circle.__repr__.__doc__)"
   ]
  },
  {
   "cell_type": "code",
   "execution_count": 22,
   "id": "fb5ca7d1",
   "metadata": {},
   "outputs": [
    {
     "name": "stdout",
     "output_type": "stream",
     "text": [
      "Return a user-friendly string representation of the circle.\n"
     ]
    }
   ],
   "source": [
    "print(Circle.__str__.__doc__)"
   ]
  },
  {
   "cell_type": "markdown",
   "id": "4925e841",
   "metadata": {},
   "source": [
    "**i. Modify the init by making its parameters default and verify by instances.**"
   ]
  },
  {
   "cell_type": "code",
   "execution_count": 23,
   "id": "35265f90",
   "metadata": {},
   "outputs": [],
   "source": [
    "inst_3 = Circle()"
   ]
  },
  {
   "cell_type": "code",
   "execution_count": 24,
   "id": "6615369a",
   "metadata": {},
   "outputs": [
    {
     "name": "stdout",
     "output_type": "stream",
     "text": [
      "Circle with radius: 1\n"
     ]
    }
   ],
   "source": [
    "print(inst_3)"
   ]
  },
  {
   "cell_type": "markdown",
   "id": "6f567cbf",
   "metadata": {},
   "source": [
    "___________"
   ]
  },
  {
   "cell_type": "code",
   "execution_count": null,
   "id": "5bbcb938",
   "metadata": {},
   "outputs": [],
   "source": []
  },
  {
   "cell_type": "code",
   "execution_count": null,
   "id": "d96fd7e1",
   "metadata": {},
   "outputs": [],
   "source": []
  },
  {
   "cell_type": "code",
   "execution_count": null,
   "id": "9f959fb6",
   "metadata": {},
   "outputs": [],
   "source": []
  },
  {
   "cell_type": "code",
   "execution_count": null,
   "id": "5dc71945",
   "metadata": {},
   "outputs": [],
   "source": []
  },
  {
   "cell_type": "code",
   "execution_count": null,
   "id": "97ea1218",
   "metadata": {},
   "outputs": [],
   "source": []
  },
  {
   "cell_type": "code",
   "execution_count": null,
   "id": "855c98fc",
   "metadata": {},
   "outputs": [],
   "source": []
  },
  {
   "cell_type": "code",
   "execution_count": null,
   "id": "94bb7764",
   "metadata": {},
   "outputs": [],
   "source": []
  },
  {
   "cell_type": "code",
   "execution_count": null,
   "id": "a9af38ea",
   "metadata": {},
   "outputs": [],
   "source": []
  },
  {
   "cell_type": "code",
   "execution_count": null,
   "id": "73cf580f",
   "metadata": {},
   "outputs": [],
   "source": []
  },
  {
   "cell_type": "code",
   "execution_count": null,
   "id": "c0977520",
   "metadata": {},
   "outputs": [],
   "source": []
  },
  {
   "cell_type": "code",
   "execution_count": null,
   "id": "d72cd792",
   "metadata": {},
   "outputs": [],
   "source": []
  },
  {
   "cell_type": "code",
   "execution_count": null,
   "id": "3d648aeb",
   "metadata": {},
   "outputs": [],
   "source": []
  },
  {
   "cell_type": "code",
   "execution_count": null,
   "id": "f81dda58",
   "metadata": {},
   "outputs": [],
   "source": []
  },
  {
   "cell_type": "code",
   "execution_count": null,
   "id": "0629f484",
   "metadata": {},
   "outputs": [],
   "source": []
  },
  {
   "cell_type": "code",
   "execution_count": null,
   "id": "130995a5",
   "metadata": {},
   "outputs": [],
   "source": []
  },
  {
   "cell_type": "code",
   "execution_count": null,
   "id": "37860171",
   "metadata": {},
   "outputs": [],
   "source": []
  },
  {
   "cell_type": "code",
   "execution_count": null,
   "id": "85d3cf6b",
   "metadata": {},
   "outputs": [],
   "source": []
  }
 ],
 "metadata": {
  "kernelspec": {
   "display_name": "Python 3 (ipykernel)",
   "language": "python",
   "name": "python3"
  },
  "language_info": {
   "codemirror_mode": {
    "name": "ipython",
    "version": 3
   },
   "file_extension": ".py",
   "mimetype": "text/x-python",
   "name": "python",
   "nbconvert_exporter": "python",
   "pygments_lexer": "ipython3",
   "version": "3.9.19"
  }
 },
 "nbformat": 4,
 "nbformat_minor": 5
}
